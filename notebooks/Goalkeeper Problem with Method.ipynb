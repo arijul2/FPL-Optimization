{
 "cells": [
  {
   "cell_type": "code",
   "execution_count": 19,
   "id": "e064cdd3",
   "metadata": {},
   "outputs": [],
   "source": [
    "import pandas as pd\n",
    "import sasoptpy as so\n",
    "import re\n",
    "import os\n",
    "import subprocess\n",
    "import time\n",
    "import warnings\n",
    "warnings.simplefilter(action='ignore', category=FutureWarning)"
   ]
  },
  {
   "cell_type": "code",
   "execution_count": 20,
   "id": "8091106b",
   "metadata": {},
   "outputs": [],
   "source": [
    "t0 = time.time()"
   ]
  },
  {
   "cell_type": "code",
   "execution_count": 21,
   "id": "3c57e4a6",
   "metadata": {},
   "outputs": [],
   "source": [
    "df = pd.read_csv('../data/input.csv')\n",
    "gk_data = df[df['Pos'] == 'G'].copy().reset_index()\n",
    "gk_data.set_index('index', inplace=True)"
   ]
  },
  {
   "cell_type": "code",
   "execution_count": 22,
   "id": "b66a7df6",
   "metadata": {},
   "outputs": [],
   "source": [
    "def find_optimal_goalkeepers(gk_data, budget):\n",
    "    # Initializing the model\n",
    "    model = so.Model(name='gk_model')\n",
    "    players = gk_data.index.tolist()\n",
    "    \n",
    "    # Variables\n",
    "    lineup = model.add_variables(players, name='lineup', vartype=so.binary)\n",
    "    bench = model.add_variables(players, name='bench', vartype=so.binary)\n",
    "    \n",
    "    # Objective\n",
    "    total_xp = so.expr_sum(lineup[p] * gk_data.loc[p, '3_Pts'] for p in players) + 0.05 * so.expr_sum(bench[p] * gk_data.loc[p, '3_Pts'] for p in players)\n",
    "    model.set_objective(-total_xp, name='total_xp_obj', sense='N')\n",
    "    \n",
    "    # Constraints\n",
    "    model.add_constraints((lineup[p] + bench[p] <= 1 for p in players), name='lineup_or_bench')\n",
    "    model.add_constraint(so.expr_sum(lineup[p] for p in players) == 1, name='single_lineup')\n",
    "    model.add_constraint(so.expr_sum(bench[p] for p in players) == 1, name='single_bench')\n",
    "    model.add_constraint(so.expr_sum((lineup[p] + bench[p]) * gk_data.loc[p, 'BV'] for p in players) <= budget, name='budget_constraint')\n",
    "    \n",
    "    # Solution\n",
    "    model.export_mps(filename='gk.mps')\n",
    "    command = 'cbc gk.mps solve solu solution.txt'\n",
    "    # !{command}\n",
    "    #os.system(command)\n",
    "    subprocess.run(command, shell=True, stdout=subprocess.DEVNULL, stderr=subprocess.DEVNULL)\n",
    "\n",
    "    # Parse solution\n",
    "    with open('solution.txt', 'r') as f:\n",
    "        for v in model.get_variables():\n",
    "            v.set_value(0)\n",
    "        for line in f:\n",
    "            if 'objective value' in line:\n",
    "                continue\n",
    "            words = line.split()\n",
    "            var = model.get_variable(words[1])\n",
    "            var.set_value(float(words[2]))\n",
    "\n",
    "    # Print results\n",
    "    print(\"LINEUP\")\n",
    "    for p in players:\n",
    "        if lineup[p].get_value() > 0.5:\n",
    "            print(p, gk_data.loc[p])\n",
    "    \n",
    "    print(\"BENCH\")\n",
    "    for p in players:\n",
    "        if bench[p].get_value() > 0.5:\n",
    "            print(p, gk_data.loc[p])"
   ]
  },
  {
   "cell_type": "code",
   "execution_count": 23,
   "id": "18622d6c",
   "metadata": {
    "scrolled": true
   },
   "outputs": [
    {
     "name": "stdout",
     "output_type": "stream",
     "text": [
      "NOTE: Initialized model gk_model.\n",
      "LINEUP\n",
      "14 Pos               G\n",
      "ID               15\n",
      "Name           Raya\n",
      "BV              5.5\n",
      "SV              5.5\n",
      "Team        Arsenal\n",
      "3_xMins          93\n",
      "3_Pts          4.07\n",
      "4_xMins          93\n",
      "4_Pts          3.55\n",
      "5_xMins          90\n",
      "5_Pts          3.33\n",
      "6_xMins          91\n",
      "6_Pts          4.36\n",
      "7_xMins          90\n",
      "7_Pts           4.3\n",
      "8_xMins          89\n",
      "8_Pts          3.73\n",
      "9_xMins          88\n",
      "9_Pts          3.42\n",
      "10_xMins         88\n",
      "10_Pts         3.48\n",
      "Elite%         0.09\n",
      "Name: 14, dtype: object\n",
      "BENCH\n",
      "465 Pos                   G\n",
      "ID                  466\n",
      "Name             Lumley\n",
      "BV                  4.0\n",
      "SV                  4.0\n",
      "Team        Southampton\n",
      "3_xMins               2\n",
      "3_Pts              0.07\n",
      "4_xMins               2\n",
      "4_Pts              0.06\n",
      "5_xMins               2\n",
      "5_Pts              0.09\n",
      "6_xMins               2\n",
      "6_Pts              0.08\n",
      "7_xMins               3\n",
      "7_Pts              0.11\n",
      "8_xMins               4\n",
      "8_Pts              0.15\n",
      "9_xMins               4\n",
      "9_Pts              0.13\n",
      "10_xMins              5\n",
      "10_Pts             0.17\n",
      "Elite%             0.02\n",
      "Name: 465, dtype: object\n"
     ]
    }
   ],
   "source": [
    "find_optimal_goalkeepers(gk_data, 9.5)"
   ]
  },
  {
   "cell_type": "code",
   "execution_count": 6,
   "id": "153d8a35",
   "metadata": {},
   "outputs": [
    {
     "name": "stdout",
     "output_type": "stream",
     "text": [
      "0.1166079044342041 seconds\n"
     ]
    }
   ],
   "source": [
    "t1 = time.time()\n",
    "print(t1-t0, 'seconds')"
   ]
  }
 ],
 "metadata": {
  "kernelspec": {
   "display_name": "Python (fplenv)",
   "language": "python",
   "name": "fplenv"
  },
  "language_info": {
   "codemirror_mode": {
    "name": "ipython",
    "version": 3
   },
   "file_extension": ".py",
   "mimetype": "text/x-python",
   "name": "python",
   "nbconvert_exporter": "python",
   "pygments_lexer": "ipython3",
   "version": "3.12.4"
  }
 },
 "nbformat": 4,
 "nbformat_minor": 5
}
