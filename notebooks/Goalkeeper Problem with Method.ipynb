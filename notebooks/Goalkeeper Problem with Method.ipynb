{
 "cells": [
  {
   "cell_type": "code",
   "execution_count": 1,
   "id": "e064cdd3",
   "metadata": {},
   "outputs": [],
   "source": [
    "import pandas as pd\n",
    "import sasoptpy as so\n",
    "import re\n",
    "import os\n",
    "import subprocess\n",
    "import time\n",
    "import warnings\n",
    "warnings.simplefilter(action='ignore', category=FutureWarning)"
   ]
  },
  {
   "cell_type": "code",
   "execution_count": 2,
   "id": "8091106b",
   "metadata": {},
   "outputs": [],
   "source": [
    "t0 = time.time()"
   ]
  },
  {
   "cell_type": "code",
   "execution_count": 3,
   "id": "3c57e4a6",
   "metadata": {},
   "outputs": [],
   "source": [
    "df = pd.read_csv('../data/input.csv')\n",
    "gk_data = df[df['Pos'] == 'G'].copy().reset_index()\n",
    "gk_data.set_index('index', inplace=True)"
   ]
  },
  {
   "cell_type": "code",
   "execution_count": 4,
   "id": "b66a7df6",
   "metadata": {},
   "outputs": [],
   "source": [
    "def find_optimal_goalkeepers(gk_data, budget):\n",
    "    # Initializing the model\n",
    "    model = so.Model(name='gk_model')\n",
    "    players = gk_data.index.tolist()\n",
    "    \n",
    "    # Variables\n",
    "    lineup = model.add_variables(players, name='lineup', vartype=so.binary)\n",
    "    bench = model.add_variables(players, name='bench', vartype=so.binary)\n",
    "    \n",
    "    # Objective\n",
    "    total_xp = so.expr_sum(lineup[p] * gk_data.loc[p, '3_Pts'] for p in players) + 0.1 * so.expr_sum(bench[p] * gk_data.loc[p, '3_Pts'] for p in players)\n",
    "    model.set_objective(-total_xp, name='total_xp_obj', sense='N')\n",
    "    \n",
    "    # Constraints\n",
    "    model.add_constraints((lineup[p] + bench[p] <= 1 for p in players), name='lineup_or_bench')\n",
    "    model.add_constraint(so.expr_sum(lineup[p] for p in players) == 1, name='single_lineup')\n",
    "    model.add_constraint(so.expr_sum(bench[p] for p in players) == 1, name='single_bench')\n",
    "    model.add_constraint(so.expr_sum((lineup[p] + bench[p]) * gk_data.loc[p, 'BV'] for p in players) <= budget, name='budget_constraint')\n",
    "    \n",
    "    # Solution\n",
    "    model.export_mps(filename='gk.mps')\n",
    "    command = 'cbc gk.mps solve solu solution.txt'\n",
    "    # !{command}\n",
    "    #os.system(command)\n",
    "    subprocess.run(command, shell=True, stdout=subprocess.DEVNULL, stderr=subprocess.DEVNULL)\n",
    "\n",
    "    # Parse solution\n",
    "    with open('solution.txt', 'r') as f:\n",
    "        for v in model.get_variables():\n",
    "            v.set_value(0)\n",
    "        for line in f:\n",
    "            if 'objective value' in line:\n",
    "                continue\n",
    "            words = line.split()\n",
    "            var = model.get_variable(words[1])\n",
    "            var.set_value(float(words[2]))\n",
    "\n",
    "    # Print results\n",
    "    print(\"LINEUP\")\n",
    "    for p in players:\n",
    "        if lineup[p].get_value() > 0.5:\n",
    "            print(p, gk_data.loc[p])\n",
    "    \n",
    "    print(\"BENCH\")\n",
    "    for p in players:\n",
    "        if bench[p].get_value() > 0.5:\n",
    "            print(p, gk_data.loc[p])"
   ]
  },
  {
   "cell_type": "code",
   "execution_count": 5,
   "id": "18622d6c",
   "metadata": {
    "scrolled": true
   },
   "outputs": [
    {
     "name": "stdout",
     "output_type": "stream",
     "text": [
      "NOTE: Initialized model gk_model.\n",
      "LINEUP\n",
      "90 Pos                 G\n",
      "ID                 91\n",
      "Name          Flekken\n",
      "BV                4.5\n",
      "SV                4.5\n",
      "Team        Brentford\n",
      "3_xMins            94\n",
      "3_Pts            3.78\n",
      "4_xMins            93\n",
      "4_Pts            3.06\n",
      "5_xMins            93\n",
      "5_Pts            3.09\n",
      "6_xMins            92\n",
      "6_Pts            3.41\n",
      "7_xMins            92\n",
      "7_Pts            3.62\n",
      "8_xMins            91\n",
      "8_Pts            3.11\n",
      "9_xMins            91\n",
      "9_Pts            3.68\n",
      "10_xMins           91\n",
      "10_Pts           3.35\n",
      "Elite%           0.24\n",
      "Name: 90, dtype: object\n",
      "BENCH\n",
      "184 Pos               G\n",
      "ID              185\n",
      "Name        Sánchez\n",
      "BV              4.5\n",
      "SV              4.5\n",
      "Team        Chelsea\n",
      "3_xMins          92\n",
      "3_Pts           3.6\n",
      "4_xMins          91\n",
      "4_Pts          3.34\n",
      "5_xMins          90\n",
      "5_Pts          3.23\n",
      "6_xMins          88\n",
      "6_Pts          3.33\n",
      "7_xMins          84\n",
      "7_Pts          3.39\n",
      "8_xMins          84\n",
      "8_Pts          2.79\n",
      "9_xMins          85\n",
      "9_Pts           3.1\n",
      "10_xMins         83\n",
      "10_Pts         2.91\n",
      "Elite%          0.0\n",
      "Name: 184, dtype: object\n"
     ]
    }
   ],
   "source": [
    "find_optimal_goalkeepers(gk_data, 9.0)"
   ]
  },
  {
   "cell_type": "code",
   "execution_count": 6,
   "id": "153d8a35",
   "metadata": {},
   "outputs": [
    {
     "name": "stdout",
     "output_type": "stream",
     "text": [
      "0.1166079044342041 seconds\n"
     ]
    }
   ],
   "source": [
    "t1 = time.time()\n",
    "print(t1-t0, 'seconds')"
   ]
  }
 ],
 "metadata": {
  "kernelspec": {
   "display_name": "Python (fplenv)",
   "language": "python",
   "name": "fplenv"
  },
  "language_info": {
   "codemirror_mode": {
    "name": "ipython",
    "version": 3
   },
   "file_extension": ".py",
   "mimetype": "text/x-python",
   "name": "python",
   "nbconvert_exporter": "python",
   "pygments_lexer": "ipython3",
   "version": "3.12.4"
  }
 },
 "nbformat": 4,
 "nbformat_minor": 5
}
