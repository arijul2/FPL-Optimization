{
 "cells": [
  {
   "cell_type": "code",
   "execution_count": 1,
   "id": "58e21916",
   "metadata": {},
   "outputs": [],
   "source": [
    "import pandas as pd\n",
    "import sasoptpy as so\n",
    "import requests\n",
    "import os\n",
    "import time\n",
    "import numpy as np"
   ]
  },
  {
   "cell_type": "code",
   "execution_count": 2,
   "id": "3ed21468",
   "metadata": {},
   "outputs": [],
   "source": [
    "import warnings\n",
    "warnings.simplefilter(action='ignore', category=FutureWarning)"
   ]
  },
  {
   "cell_type": "code",
   "execution_count": null,
   "id": "8f1f5d17",
   "metadata": {},
   "outputs": [],
   "source": [
    "def get_data():\n",
    "    r = requests.get('https://fantasy.premierleague.com/api/bootstrap-static/')\n",
    "    fpl_data = r.json()\n",
    "    element_data = pd.DataFrame(fpl_data['elements'])\n",
    "    team_data = pd.DataFrame(fpl_data['teams'])\n",
    "    elements_team = pd.merge(element_data, team_data, left_on='team', right_on='id')\n",
    "    review_data = pd.read_csv('../data/fplreview.csv')\n",
    "    merged_data = pd.merge(elements_team, review_data, left_on=['name', 'web_name'], right_on=['Team', 'Name'])\n",
    "    merged_data.set_index(['id_x'], inplace=True)\n",
    "    next_gw = int(review_data.keys()[6].split('_')[0])\n",
    "    type_data = pd.DataFrame(fpl_data['element_types']).set_index(['id'])\n",
    "    \n",
    "    return {'merged_data': merged_data, 'team_data': team_data, 'type_data': type_data, 'next_'}"
   ]
  }
 ],
 "metadata": {
  "kernelspec": {
   "display_name": "Python (fplenv)",
   "language": "python",
   "name": "fplenv"
  },
  "language_info": {
   "codemirror_mode": {
    "name": "ipython",
    "version": 3
   },
   "file_extension": ".py",
   "mimetype": "text/x-python",
   "name": "python",
   "nbconvert_exporter": "python",
   "pygments_lexer": "ipython3",
   "version": "3.12.4"
  }
 },
 "nbformat": 4,
 "nbformat_minor": 5
}
